{
 "cells": [
  {
   "cell_type": "code",
   "execution_count": 38,
   "metadata": {},
   "outputs": [
    {
     "data": {
      "text/plain": [
       "'Optimal'"
      ]
     },
     "execution_count": 38,
     "metadata": {},
     "output_type": "execute_result"
    }
   ],
   "source": [
    "from pulp import *\n",
    "\n",
    "#set up \n",
    "prob = LpProblem(\"Simple solver\", LpMaximize)\n",
    "# Create problem variables with 50% male 50% female distribution for 220 people \n",
    "x1=LpVariable(\"x1\",0,None,LpInteger)\n",
    "x2=LpVariable(\"x2\",0, None, LpInteger)\n",
    "\n",
    "\n",
    "#set up problem\n",
    "prob += x1+x2, 220\n",
    "# Constraints\n",
    "prob += (x1*100/220) == 50\n",
    "prob += (x2*100/220) == 50\n",
    "\n",
    "prob\n",
    "\n",
    "prob.solve()\n",
    "pulp.LpStatus[prob.status]\n"
   ]
  },
  {
   "cell_type": "code",
   "execution_count": 39,
   "metadata": {},
   "outputs": [
    {
     "name": "stdout",
     "output_type": "stream",
     "text": [
      "x1 = 110.0\n",
      "x2 = 110.0\n"
     ]
    }
   ],
   "source": [
    "for v in prob.variables():\n",
    "    print(v.name, \"=\", v.varValue)"
   ]
  },
  {
   "cell_type": "code",
   "execution_count": 107,
   "metadata": {},
   "outputs": [
    {
     "data": {
      "text/plain": [
       "'Optimal'"
      ]
     },
     "execution_count": 107,
     "metadata": {},
     "output_type": "execute_result"
    }
   ],
   "source": [
    "#prob 2:\n",
    "#      Already have 60% people - M:90% vs F:10%\n",
    "#      future distribution\n",
    "#set up \n",
    "prob = LpProblem(\"Simple solver\", LpMaximize)\n",
    "# Create problem variables\n",
    "x1=LpVariable(\"remaining male\",0,None,LpInteger)\n",
    "x2=LpVariable(\"remaining female\",0, None, LpInteger)\n",
    "\n",
    "# x3 = 0.9*100  #male:90%\n",
    "# x4 = 0.1*100  #female:10%\n",
    "\n",
    "# p_highm = .55-(x3/220)\n",
    "# p_lowm = .45-(x3/220)\n",
    "# p_high_w = .55-(x4/220)\n",
    "# p_low_w = .45-(x4/220)\n",
    "\n",
    "#set up problem\n",
    "prob += x1+x2\n",
    "# Constraints\n",
    "prob += x1+x3+x2+x4 == 220\n",
    "prob += ((x1+x3)/220) <= .50\n",
    "prob += ((x1+x3)/220) >= .45\n",
    "prob += ((x2+x4)/220) <= .50\n",
    "prob += ((x2+x4)/220) >= .45\n",
    "prob += x3+x4 == 100\n",
    "prob += x3 == 0.9*100\n",
    "prob += x4 == 0.1*100 \n",
    "\n",
    "prob\n",
    "\n",
    "prob.solve()\n",
    "pulp.LpStatus[prob.status]"
   ]
  },
  {
   "cell_type": "code",
   "execution_count": 108,
   "metadata": {},
   "outputs": [
    {
     "name": "stdout",
     "output_type": "stream",
     "text": [
      "x1 = 20.0\n",
      "x2 = 100.0\n"
     ]
    }
   ],
   "source": [
    "for v in prob.variables():\n",
    "    if v.varValue < 0:\n",
    "        v.varValue = 0\n",
    "    print(v.name, \"=\", v.varValue)"
   ]
  },
  {
   "cell_type": "code",
   "execution_count": 146,
   "metadata": {},
   "outputs": [
    {
     "data": {
      "text/plain": [
       "'Optimal'"
      ]
     },
     "execution_count": 146,
     "metadata": {},
     "output_type": "execute_result"
    }
   ],
   "source": [
    "prob2 = LpProblem(\"Simple solver\", LpMaximize)\n",
    "\n",
    "x1=LpVariable(\"MM\",0,None,LpInteger)\n",
    "x2=LpVariable(\"MF\",0, None, LpInteger)\n",
    "x3=LpVariable(\"FM\",0, None, LpInteger)\n",
    "x4=LpVariable(\"FF\",0, None, LpInteger)\n",
    "x5=LpVariable(\"M\",0,None,LpInteger)\n",
    "x6=LpVariable(\"F\",0,None,LpInteger)\n",
    "\n",
    "total =220\n",
    "#linear prob\n",
    "prob2 += x5+x6,220\n",
    "# prob += x1+x2+x3+x4 , total\n",
    "#constraints\n",
    "prob2 += x1+x2+x3+x4 == total\n",
    "prob2 += (x1*1)/total == .25\n",
    "prob2 += (x2*1)/total == .25\n",
    "prob2 += (x3*1)/total == .25\n",
    "prob2 += (x4*1)/total == .25\n",
    "prob2 += (x5*1)/total == .5\n",
    "prob2 += (x6*1)/total == .5\n",
    "\n",
    "\n",
    "prob2\n",
    "\n",
    "prob2.solve()\n",
    "pulp.LpStatus[prob2.status]\n"
   ]
  },
  {
   "cell_type": "code",
   "execution_count": 147,
   "metadata": {},
   "outputs": [
    {
     "name": "stdout",
     "output_type": "stream",
     "text": [
      "F = 110.0\n",
      "FF = 55.0\n",
      "FM = 55.0\n",
      "M = 110.0\n",
      "MF = 55.0\n",
      "MM = 55.0\n"
     ]
    }
   ],
   "source": [
    " for v in prob2.variables():\n",
    "    if v.varValue < 0:\n",
    "        v.varValue = 0\n",
    "    print(v.name, \"=\", v.varValue)"
   ]
  },
  {
   "cell_type": "code",
   "execution_count": 205,
   "metadata": {},
   "outputs": [
    {
     "data": {
      "text/plain": [
       "'Optimal'"
      ]
     },
     "execution_count": 205,
     "metadata": {},
     "output_type": "execute_result"
    }
   ],
   "source": [
    "# already have participiants\n",
    "pre_male = .6*100\n",
    "pre_female = .4 * 100\n",
    "pre_MF = 8\n",
    "pre_FM = 8\n",
    "\n",
    "prob3 = LpProblem(\"Simple solver\", LpMaximize)\n",
    "\n",
    "x1=LpVariable(\"MM\",0,None,LpInteger)\n",
    "x2=LpVariable(\"MF\",0, None, LpInteger)\n",
    "x3=LpVariable(\"FM\",0, None, LpInteger)\n",
    "x4=LpVariable(\"FF\",0, None, LpInteger)\n",
    "x5=LpVariable(\"M\",0,None,LpInteger)\n",
    "x6=LpVariable(\"F\",0,None,LpInteger)\n",
    "\n",
    "totla = 220\n",
    "sub_total = 220-100\n",
    "#linear prob\n",
    "prob3 += x5+x6,total\n",
    "\n",
    "#constraints\n",
    "prob3 += x1+x2+x3+x4 == sub_total\n",
    "prob3 += (x1+(pre_male-8))/total <= .27\n",
    "prob3 += (x1+(pre_male-8))/total >= .23\n",
    "prob3 += (x2+pre_MF)/total <= .27\n",
    "prob3 += (x2+pre_MF)/total >= .23\n",
    "prob3 += (x3+pre_FM)/total <= .27\n",
    "prob3 += (x3+pre_FM)/total >= .23\n",
    "prob3 += (x4+(pre_female-8))/total <= .27\n",
    "prob3 += (x4+(pre_female-8))/total >= .23\n",
    "prob3 += (x5+pre_male)/total == .5\n",
    "prob3 += (x6+pre_female)/total == .5\n",
    "\n",
    "\n",
    "prob3\n",
    "\n",
    "prob3.solve()\n",
    "pulp.LpStatus[prob3.status]\n"
   ]
  },
  {
   "cell_type": "code",
   "execution_count": 206,
   "metadata": {},
   "outputs": [
    {
     "name": "stdout",
     "output_type": "stream",
     "text": [
      "F = 70.0\n",
      "FF = 27.0\n",
      "FM = 50.0\n",
      "M = 50.0\n",
      "MF = 43.0\n",
      "MM = 0.0\n"
     ]
    }
   ],
   "source": [
    "for v in prob3.variables():\n",
    "    if v.varValue < 0:\n",
    "        v.varValue = 0\n",
    "    print(v.name, \"=\", v.varValue)"
   ]
  },
  {
   "cell_type": "code",
   "execution_count": 185,
   "metadata": {},
   "outputs": [
    {
     "data": {
      "text/plain": [
       "'Optimal'"
      ]
     },
     "execution_count": 185,
     "metadata": {},
     "output_type": "execute_result"
    }
   ],
   "source": [
    "# already have participiants\n",
    "pre_male = .6*100\n",
    "pre_female = .4 * 100\n",
    "pre_MF = 8\n",
    "pre_FM = 8\n",
    "\n",
    "prob3 = LpProblem(\"Simple solver\", LpMaximize)\n",
    "\n",
    "x1=LpVariable(\"MM\",0,None,LpInteger)\n",
    "x2=LpVariable(\"MF\",0, None, LpInteger)\n",
    "x3=LpVariable(\"FM\",0, None, LpInteger)\n",
    "x4=LpVariable(\"FF\",0, None, LpInteger)\n",
    "x5=LpVariable(\"M\",0,None,LpInteger)\n",
    "x6=LpVariable(\"F\",0,None,LpInteger)\n",
    "\n",
    "totla = 220\n",
    "sub_total = 220-100\n",
    "#linear prob\n",
    "prob3 += x5+x6,sub_total\n",
    "# prob += x1+x2+x3+x4 , total\n",
    "#constraints\n",
    "prob3 += x1+x2+x3+x4 == sub_total\n",
    "# prob3 += (x1+(pre_male-8))/total <= .3\n",
    "prob3 += (x1+(pre_male-8))/total >= .2\n",
    "# prob3 += (x2+pre_MF)/total <= .3\n",
    "prob3 += (x2+pre_MF)/total >= .2\n",
    "# prob3 += (x3+pre_FM)/total <= .3\n",
    "prob3 += (x3+pre_FM)/total >= .2\n",
    "# prob3 += (x4+(pre_female-8))/total <= .3\n",
    "prob3 += (x4+(pre_female-8))/total >= .2\n",
    "prob3 += (x5+pre_male)/total == .5\n",
    "prob3 += (x6+pre_female)/total == .5\n",
    "\n",
    "\n",
    "prob3\n",
    "\n",
    "prob3.solve()\n",
    "pulp.LpStatus[prob3.status]"
   ]
  },
  {
   "cell_type": "code",
   "execution_count": 186,
   "metadata": {},
   "outputs": [
    {
     "name": "stdout",
     "output_type": "stream",
     "text": [
      "F = 70.0\n",
      "FF = 48.0\n",
      "FM = 36.0\n",
      "M = 50.0\n",
      "MF = 36.0\n",
      "MM = 0.0\n"
     ]
    }
   ],
   "source": [
    "for v in prob3.variables():\n",
    "    if v.varValue < 0:\n",
    "        v.varValue = 0\n",
    "    print(v.name, \"=\", v.varValue)"
   ]
  },
  {
   "cell_type": "code",
   "execution_count": 202,
   "metadata": {},
   "outputs": [
    {
     "data": {
      "text/plain": [
       "0.23636363636363636"
      ]
     },
     "execution_count": 202,
     "metadata": {},
     "output_type": "execute_result"
    }
   ],
   "source": []
  },
  {
   "cell_type": "code",
   "execution_count": null,
   "metadata": {},
   "outputs": [],
   "source": []
  }
 ],
 "metadata": {
  "kernelspec": {
   "display_name": "Python 3",
   "language": "python",
   "name": "python3"
  },
  "language_info": {
   "codemirror_mode": {
    "name": "ipython",
    "version": 3
   },
   "file_extension": ".py",
   "mimetype": "text/x-python",
   "name": "python",
   "nbconvert_exporter": "python",
   "pygments_lexer": "ipython3",
   "version": "3.6.6"
  }
 },
 "nbformat": 4,
 "nbformat_minor": 2
}
