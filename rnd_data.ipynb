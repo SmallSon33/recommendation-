{
 "cells": [
  {
   "cell_type": "code",
   "execution_count": null,
   "metadata": {},
   "outputs": [],
   "source": [
    "import xlsxwriter\n",
    "import random\n",
    "import string\n",
    "\n",
    "\n",
    "workbook = xlsxwriter.Workbook('rnd.xlsx')\n",
    "worksheet = workbook.add_worksheet()\n",
    "\n",
    "choice = [\"Draw with either hand\", \"Draw with left leg\",\"Draw with right leg\",\"Other\"]\n",
    "dominate_leg = [\"Right-Legged\",\"Left-Legged\",\"Ambi-Legged\",\"Cross-Dominant\",\"N/A\",\"Other\"]\n",
    "kick = [\"Kick with left leg\",\"Kick with right leg\",\"Kick with either leg\",\"Other\"]\n",
    "stomp = [\"Stomp with left leg\",\"Stomp with right leg\",\"Stomp with either leg\",\"Stomp with both legs\",\"Other\"]\n",
    "age=[\"17 or under\",\"18-24\",\"25-34\",\"35-44\",\"45-54\",\"55-64\",\"65 or older\",\"Prefer not to answer\"]\n",
    "race = [\"Asian/ Pacific Islander\",\"Black/ African American\",\"Hispanic/ Latino\",\"Native American/ American Indian\",\n",
    "       \"White\",\"Prefer not to answer\",\"Other\"]\n",
    "gender = [\"Male\",\"Female\",\"Prefer not to say\",\"Other\"]\n",
    "dominate_hand = [\"Right-handed\",\"Left handed\",\"Ambidextrous\",\"Cross-dominant (Mixed handed)\",\"Prefer not to answer\",\n",
    "                \"N/A\",\"Other\"]\n",
    "watch = [\"Yes\",\"No\",\"Other\"]\n",
    "\n",
    "sports = [\"Basketball\", \"Esports\", \"Baseball\", \"Jog\", \"Soccer\", \n",
    "           \"Football\", \"Swim\", \"Ski\", \"Yoga\", \"Volleyball\", \"Badminton\", \"MMA\", \"Boxing\", \"Tennis\", \"Kong Fu\"]\n",
    "game = [\"Simulations/ Flight Simulators\",\"Adventure\",\"Real-Time Strategy (RTS)\",\"Puzzle\",\"Action\",\"Stealth Shooter\",\n",
    "       \"First Person Shooter (FPS)\",\"Sports\",\"Role Playing Game (RPG)\",\"Educational\",\"Other\"]\n",
    "other = [\"N/A\",\"Prefer not to answer\"]\n",
    "\n",
    "result = random.choices(age,weights = [20,50,50,30,20,10,5,2],k=1000)\n",
    "\n",
    "# random select game if answer is yes\n",
    "# select=[]\n",
    "# count = 0\n",
    "# s=[]\n",
    "# string = \"\"\n",
    "# for e in result:\n",
    "#         num = randint(1,13)\n",
    "#         while count < num:\n",
    "#             sp = random.choices(game,weights = [30,40,30,20,40,40,70,60,60,10,5])\n",
    "#             string = \"\".join(sp)\n",
    "#             if string not in s:\n",
    "#                 s.append(string)\n",
    "#                 count += 1\n",
    "\n",
    "#         select.append(\",\".join(s))\n",
    "#         s =[]\n",
    "#         count =0\n",
    "#         string = \"\"\n",
    "# #generate other choices     \n",
    "# tmp_other = random.choices(other,weights=[5,5],k=100)\n",
    "# for e in tmp_other:\n",
    "#     pos = randint(1,1000)\n",
    "#     select[pos] = \"\".join(e)\n",
    "    \n",
    "# write to excel\n",
    "row = 1 \n",
    "col = 6 \n",
    "\n",
    "for r in result:\n",
    "    worksheet.write(row,col,r)\n",
    "    row += 1\n",
    "    \n",
    "\n",
    "workbook.close()"
   ]
  },
  {
   "cell_type": "code",
   "execution_count": null,
   "metadata": {},
   "outputs": [],
   "source": []
  },
  {
   "cell_type": "code",
   "execution_count": null,
   "metadata": {},
   "outputs": [],
   "source": []
  }
 ],
 "metadata": {
  "kernelspec": {
   "display_name": "Python 3",
   "language": "python",
   "name": "python3"
  },
  "language_info": {
   "codemirror_mode": {
    "name": "ipython",
    "version": 3
   },
   "file_extension": ".py",
   "mimetype": "text/x-python",
   "name": "python",
   "nbconvert_exporter": "python",
   "pygments_lexer": "ipython3",
   "version": "3.6.6"
  }
 },
 "nbformat": 4,
 "nbformat_minor": 2
}
